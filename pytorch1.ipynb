{
  "nbformat": 4,
  "nbformat_minor": 0,
  "metadata": {
    "colab": {
      "name": "pytorch1.ipynb",
      "provenance": [],
      "collapsed_sections": [],
      "authorship_tag": "ABX9TyNf8rBNdcijEEDoDaNFmR7V",
      "include_colab_link": true
    },
    "kernelspec": {
      "name": "python3",
      "display_name": "Python 3"
    },
    "accelerator": "GPU"
  },
  "cells": [
    {
      "cell_type": "markdown",
      "metadata": {
        "id": "view-in-github",
        "colab_type": "text"
      },
      "source": [
        "<a href=\"https://colab.research.google.com/github/together0/pytorch/blob/main/pytorch1.ipynb\" target=\"_parent\"><img src=\"https://colab.research.google.com/assets/colab-badge.svg\" alt=\"Open In Colab\"/></a>"
      ]
    },
    {
      "cell_type": "code",
      "metadata": {
        "colab": {
          "base_uri": "https://localhost:8080/"
        },
        "id": "-19LEAP2kFnG",
        "outputId": "18aafe3f-e506-44ea-d14c-2f6723ea493b"
      },
      "source": [
        "import torch \r\n",
        "from torch import autograd\r\n",
        "print(torch.__version__)"
      ],
      "execution_count": 3,
      "outputs": [
        {
          "output_type": "stream",
          "text": [
            "1.7.0+cu101\n"
          ],
          "name": "stdout"
        }
      ]
    },
    {
      "cell_type": "markdown",
      "metadata": {
        "id": "4aaJ4kQzG60O"
      },
      "source": [
        "梯度\r\n"
      ]
    },
    {
      "cell_type": "code",
      "metadata": {
        "colab": {
          "base_uri": "https://localhost:8080/"
        },
        "id": "mlLn28qBoSBY",
        "outputId": "81656ca0-fc32-4ef5-c676-adb4e5d42e6c"
      },
      "source": [
        "x = torch.tensor(1.)\r\n",
        "a = torch.tensor(1.0, requires_grad=True)\r\n",
        "b = torch.tensor(2.0, requires_grad=True)\r\n",
        "c = torch.tensor(3.0, requires_grad=True)\r\n",
        "y = a**2*x + b*x + c\r\n",
        "grads = autograd.grad(y, [a, b, c])\r\n",
        "print(grads)"
      ],
      "execution_count": 4,
      "outputs": [
        {
          "output_type": "stream",
          "text": [
            "(tensor(2.), tensor(1.), tensor(1.))\n"
          ],
          "name": "stdout"
        }
      ]
    },
    {
      "cell_type": "markdown",
      "metadata": {
        "id": "JUDg7GivHKun"
      },
      "source": [
        "张量的类型、类型比较、形状、尺寸"
      ]
    },
    {
      "cell_type": "code",
      "metadata": {
        "colab": {
          "base_uri": "https://localhost:8080/"
        },
        "id": "aP7B-ISCsiPV",
        "outputId": "4c074e4b-c204-4882-8807-92683929b4eb"
      },
      "source": [
        "data = torch.tensor(1.0)\r\n",
        "isinstance(data, torch.FloatTensor)"
      ],
      "execution_count": 9,
      "outputs": [
        {
          "output_type": "execute_result",
          "data": {
            "text/plain": [
              "True"
            ]
          },
          "metadata": {
            "tags": []
          },
          "execution_count": 9
        }
      ]
    },
    {
      "cell_type": "code",
      "metadata": {
        "colab": {
          "base_uri": "https://localhost:8080/",
          "height": 35
        },
        "id": "i6Rpa5zeFlnv",
        "outputId": "c84ce2d0-f51a-438b-90ac-a544a7019694"
      },
      "source": [
        "data.type()"
      ],
      "execution_count": 8,
      "outputs": [
        {
          "output_type": "execute_result",
          "data": {
            "application/vnd.google.colaboratory.intrinsic+json": {
              "type": "string"
            },
            "text/plain": [
              "'torch.FloatTensor'"
            ]
          },
          "metadata": {
            "tags": []
          },
          "execution_count": 8
        }
      ]
    },
    {
      "cell_type": "code",
      "metadata": {
        "colab": {
          "base_uri": "https://localhost:8080/"
        },
        "id": "zLmEl-XtFfJQ",
        "outputId": "17b1a788-22d5-4d24-c9b6-f6fec6c9610e"
      },
      "source": [
        "data = data.cuda()\r\n",
        "isinstance(data, torch.cuda.FloatTensor)"
      ],
      "execution_count": 10,
      "outputs": [
        {
          "output_type": "execute_result",
          "data": {
            "text/plain": [
              "True"
            ]
          },
          "metadata": {
            "tags": []
          },
          "execution_count": 10
        }
      ]
    },
    {
      "cell_type": "code",
      "metadata": {
        "colab": {
          "base_uri": "https://localhost:8080/",
          "height": 35
        },
        "id": "Nzd9WqC8FuYm",
        "outputId": "6f3ba7de-3ff9-49f3-a094-1c99f64249ea"
      },
      "source": [
        "data.type()"
      ],
      "execution_count": 11,
      "outputs": [
        {
          "output_type": "execute_result",
          "data": {
            "application/vnd.google.colaboratory.intrinsic+json": {
              "type": "string"
            },
            "text/plain": [
              "'torch.cuda.FloatTensor'"
            ]
          },
          "metadata": {
            "tags": []
          },
          "execution_count": 11
        }
      ]
    },
    {
      "cell_type": "code",
      "metadata": {
        "colab": {
          "base_uri": "https://localhost:8080/"
        },
        "id": "fkiOh9cQGQkn",
        "outputId": "125ba0ce-3d38-4f40-e702-de3086520897"
      },
      "source": [
        "print(data.shape)\r\n",
        "print(data.size())"
      ],
      "execution_count": 13,
      "outputs": [
        {
          "output_type": "stream",
          "text": [
            "torch.Size([])\n",
            "torch.Size([])\n"
          ],
          "name": "stdout"
        }
      ]
    },
    {
      "cell_type": "markdown",
      "metadata": {
        "id": "9c6H53wjGuHd"
      },
      "source": [
        "张量"
      ]
    },
    {
      "cell_type": "code",
      "metadata": {
        "colab": {
          "base_uri": "https://localhost:8080/"
        },
        "id": "CgcdVimrGya8",
        "outputId": "cf7be731-4587-4f5d-f62b-9033600e6a37"
      },
      "source": [
        "import numpy as np\r\n",
        "# 0维 / 一维tensor\r\n",
        "data = torch.tensor(1.0)  # 0维度\r\n",
        "print(data)\r\n",
        "data = torch.tensor([1.0, 2.0])\r\n",
        "print(data)\r\n",
        "data = torch.FloatTensor(2)  \r\n",
        "print(data)\r\n",
        "data = np.ones(2)\r\n",
        "print(data)\r\n",
        "print(type(data))\r\n",
        "data = torch.from_numpy(data)\r\n",
        "print(data)"
      ],
      "execution_count": 17,
      "outputs": [
        {
          "output_type": "stream",
          "text": [
            "tensor(1.)\n",
            "tensor([1., 2.])\n",
            "tensor([-1.5345e-32,  0.0000e+00])\n",
            "[1. 1.]\n",
            "<class 'numpy.ndarray'>\n",
            "tensor([1., 1.], dtype=torch.float64)\n"
          ],
          "name": "stdout"
        }
      ]
    },
    {
      "cell_type": "code",
      "metadata": {
        "colab": {
          "base_uri": "https://localhost:8080/"
        },
        "id": "Wnf9tLRBLDov",
        "outputId": "e361f789-e88c-4612-b5ad-3acc0bb7b471"
      },
      "source": [
        "# 二维tensor\r\n",
        "data = torch.randn(2, 3)  # 正态分布\r\n",
        "print(data)\r\n",
        "print(data.shape)\r\n",
        "print(data.shape[1])\r\n",
        "print(data[0])"
      ],
      "execution_count": 26,
      "outputs": [
        {
          "output_type": "stream",
          "text": [
            "tensor([[-5.8778e-01,  3.2835e-04,  1.0556e+00],\n",
            "        [-6.5604e-01, -3.1196e-02, -1.6146e+00]])\n",
            "torch.Size([2, 3])\n",
            "3\n",
            "tensor([-5.8778e-01,  3.2835e-04,  1.0556e+00])\n"
          ],
          "name": "stdout"
        }
      ]
    },
    {
      "cell_type": "code",
      "metadata": {
        "colab": {
          "base_uri": "https://localhost:8080/"
        },
        "id": "pjbYooFkLsib",
        "outputId": "f228bb2d-f7fc-44bc-f54e-cb5f76b61c6a"
      },
      "source": [
        "# 三维tensor\r\n",
        "data = torch.rand(1,2,3)  # 0-1随机分布\r\n",
        "print(data)\r\n",
        "print(data.shape)\r\n",
        "print(data.shape[2])\r\n",
        "print(data[0][0])"
      ],
      "execution_count": 27,
      "outputs": [
        {
          "output_type": "stream",
          "text": [
            "tensor([[[0.3608, 0.7631, 0.0061],\n",
            "         [0.6710, 0.3250, 0.6428]]])\n",
            "torch.Size([1, 2, 3])\n",
            "3\n",
            "tensor([0.3608, 0.7631, 0.0061])\n"
          ],
          "name": "stdout"
        }
      ]
    },
    {
      "cell_type": "code",
      "metadata": {
        "colab": {
          "base_uri": "https://localhost:8080/"
        },
        "id": "CT-gTl2KLS4u",
        "outputId": "4d09c5aa-eddc-4d6e-89d8-3377e120ce47"
      },
      "source": [
        "# 四维tensor\r\n",
        "data = torch.rand(2,3,28,28)\r\n",
        "print(data.shape)"
      ],
      "execution_count": 30,
      "outputs": [
        {
          "output_type": "stream",
          "text": [
            "torch.Size([2, 3, 28, 28])\n"
          ],
          "name": "stdout"
        }
      ]
    },
    {
      "cell_type": "code",
      "metadata": {
        "colab": {
          "base_uri": "https://localhost:8080/"
        },
        "id": "u_Enc1NLNBEv",
        "outputId": "37efdaee-82fb-45fd-9f9e-27a3f343241e"
      },
      "source": [
        "# tensor的情况\r\n",
        "count = data.numel()\r\n",
        "print(count)\r\n",
        "dimension = data.dim()\r\n",
        "print(dimension)"
      ],
      "execution_count": 32,
      "outputs": [
        {
          "output_type": "stream",
          "text": [
            "4704\n",
            "4\n"
          ],
          "name": "stdout"
        }
      ]
    },
    {
      "cell_type": "code",
      "metadata": {
        "colab": {
          "base_uri": "https://localhost:8080/"
        },
        "id": "xiTGOMnjNK54",
        "outputId": "d49cc02b-757a-4a0c-fef2-8b4dd16095cf"
      },
      "source": [
        "# 使用list或者ndarray类型进行转换\r\n",
        "data = torch.tensor([111,222])\r\n",
        "print(data)\r\n",
        "print(data.type())\r\n",
        "data = torch.FloatTensor([111,222])\r\n",
        "print(data)\r\n",
        "print(data.type())\r\n",
        "data = torch.FloatTensor(2, 3)\r\n",
        "print(data)\r\n",
        "print(data.type())\r\n",
        "data = data.cuda()\r\n",
        "print(data.type())\r\n",
        "data = torch.tensor([[100,200],[300,400]])\r\n",
        "print(data)\r\n",
        "print(data.shape)"
      ],
      "execution_count": 44,
      "outputs": [
        {
          "output_type": "stream",
          "text": [
            "tensor([111, 222])\n",
            "torch.LongTensor\n",
            "tensor([111., 222.])\n",
            "torch.FloatTensor\n",
            "tensor([[-1.5337e-32,  0.0000e+00,  5.9445e-01],\n",
            "        [ 6.4460e-44,  5.9445e-01,  5.9445e-01]])\n",
            "torch.FloatTensor\n",
            "torch.cuda.FloatTensor\n",
            "tensor([[100, 200],\n",
            "        [300, 400]])\n",
            "torch.Size([2, 2])\n"
          ],
          "name": "stdout"
        }
      ]
    },
    {
      "cell_type": "code",
      "metadata": {
        "colab": {
          "base_uri": "https://localhost:8080/"
        },
        "id": "-042MjzcP1MX",
        "outputId": "6656e2e8-06cf-47f5-98f1-82fd7b80503c"
      },
      "source": [
        "# 定义时不初始化\r\n",
        "data = torch.empty(2,3)\r\n",
        "torch.IntTensor()\r\n",
        "torch.FloatTensor()\r\n",
        "print(data)"
      ],
      "execution_count": 46,
      "outputs": [
        {
          "output_type": "stream",
          "text": [
            "tensor([[-1.5337e-32,  0.0000e+00,  1.5975e-43],\n",
            "        [ 1.3873e-43,  1.4574e-43,  6.4460e-44]])\n"
          ],
          "name": "stdout"
        }
      ]
    },
    {
      "cell_type": "code",
      "metadata": {
        "colab": {
          "base_uri": "https://localhost:8080/"
        },
        "id": "RPEztBZxRPwl",
        "outputId": "a8a80386-4207-4ef0-e009-b8c7456549f9"
      },
      "source": [
        "# 设置tensor的默认数据类型\r\n",
        "data = torch.Tensor([1.1, 2.2])\r\n",
        "print(data.type())\r\n",
        "torch.set_default_tensor_type(torch.DoubleTensor)\r\n",
        "data = torch.Tensor([1.1, 2.2])\r\n",
        "print(data.type())"
      ],
      "execution_count": 48,
      "outputs": [
        {
          "output_type": "stream",
          "text": [
            "torch.DoubleTensor\n",
            "torch.DoubleTensor\n"
          ],
          "name": "stdout"
        }
      ]
    },
    {
      "cell_type": "code",
      "metadata": {
        "colab": {
          "base_uri": "https://localhost:8080/"
        },
        "id": "a07QS8CfRxBO",
        "outputId": "81e601bb-ecee-4886-da4f-52fc1a208229"
      },
      "source": [
        "# 随机初始化\r\n",
        "data = torch.rand(3,3)  # 0-1随机分布\r\n",
        "print(data)\r\n",
        "data = torch.rand_like(data)  # 根据data的shape，调用torch.rand()\r\n",
        "print(data)\r\n",
        "data = torch.randint(1, 10, [3,3])  # 给定范围[min, max)随机分布\r\n",
        "print(data)\r\n",
        "data = torch.randn(3,3)  # 正态分布\r\n",
        "print(data)\r\n",
        "data = torch.normal(mean=torch.full([10],0.0), std=torch.full([10], 2))\r\n",
        "print(data)\r\n",
        "data = torch.normal(mean=torch.full([10],0.0), std=torch.arange(1, 0, -0.1))\r\n",
        "print(data)\r\n",
        "data = torch.full([2,3] ,2.2)  # 全部赋值为同一个值\r\n",
        "print(data)\r\n",
        "print(data.type())\r\n",
        "data = torch.arange(0,10)  # 递增或者递减\r\n",
        "print(data)\r\n",
        "data = torch.arange(0,10,2)  # 第三个参数是步长\r\n",
        "print(data)\r\n",
        "data = torch.linspace(1,10,3)  # 等分，第三个参数是个数\r\n",
        "print(data)\r\n",
        "data = torch.ones(3,3)\r\n",
        "data = torch.zeros(3,3)\r\n",
        "data = torch.eye(3) # 单位矩阵"
      ],
      "execution_count": 62,
      "outputs": [
        {
          "output_type": "stream",
          "text": [
            "tensor([[0.5623, 0.6637, 0.2372],\n",
            "        [0.3312, 0.8855, 0.4786],\n",
            "        [0.6465, 0.7086, 0.7587]])\n",
            "tensor([[0.8938, 0.3718, 0.5704],\n",
            "        [0.6285, 0.6486, 0.7970],\n",
            "        [0.2873, 0.8220, 0.3745]])\n",
            "tensor([[5, 3, 8],\n",
            "        [4, 9, 9],\n",
            "        [5, 6, 1]])\n",
            "tensor([[ 1.1283,  1.1035,  1.9102],\n",
            "        [-0.8133, -0.6443,  0.2601],\n",
            "        [-0.1349, -0.9156, -1.6049]])\n",
            "tensor([ 2.8697, -0.7291,  0.0699, -0.2482,  0.2753,  1.1102, -3.2818, -3.3665,\n",
            "        -0.2564,  3.3131])\n",
            "tensor([-0.2411, -0.1712,  0.8331, -0.2664,  0.3636, -0.6080,  0.0844, -0.1840,\n",
            "         0.0652, -0.1660])\n",
            "tensor([[2.2000, 2.2000, 2.2000],\n",
            "        [2.2000, 2.2000, 2.2000]])\n",
            "torch.DoubleTensor\n",
            "tensor([0, 1, 2, 3, 4, 5, 6, 7, 8, 9])\n",
            "tensor([0, 2, 4, 6, 8])\n",
            "tensor([ 1.0000,  5.5000, 10.0000])\n"
          ],
          "name": "stdout"
        }
      ]
    },
    {
      "cell_type": "code",
      "metadata": {
        "colab": {
          "base_uri": "https://localhost:8080/"
        },
        "id": "joLb2CgXaKn3",
        "outputId": "896153c1-9359-40ab-c07c-0e3773aa77f4"
      },
      "source": [
        "# 拼接与拆分\r\n",
        "class_1 = torch.rand(3,40,6)\r\n",
        "class_2 = torch.rand(4,40,6)\r\n",
        "class_1_2 = torch.cat([class_1,class_2], dim=0)  # dim: 沿着哪个维度进行合并\r\n",
        "print(class_1_2.shape)\r\n",
        "\r\n",
        "# stack会形成一个新的维度\r\n",
        "class_1 = torch.rand(2,3)\r\n",
        "class_2 = torch.rand(2,3)\r\n",
        "class_cat = torch.cat([class_1, class_2])\r\n",
        "print(class_cat)\r\n",
        "class_stack = torch.stack([class_1, class_2])\r\n",
        "print(class_stack)\r\n",
        "\r\n",
        "# 分割：split，按照长度拆分\r\n",
        "class_1,class_2 = class_stack.split(1)  # 根据长度进行分割，每3个长度分割一次。\r\n",
        "print(class_1,class_2)\r\n",
        "\r\n",
        "class_1 = torch.rand(2,3)\r\n",
        "class_2 = torch.rand(4,3)\r\n",
        "class_cat = torch.cat([class_1, class_2])\r\n",
        "print(\"--------------------\")\r\n",
        "print(class_cat)\r\n",
        "class_1, class_2 = class_cat.split([1,5])  # 指定每个部分的长度\r\n",
        "print(class_1, class_2)\r\n",
        "\r\n",
        "# 分割：chunk，按照个数拆分\r\n",
        "class_1, class_2, class_3 = class_cat.chunk(3)\r\n",
        "print(\"----------------------\")\r\n",
        "print(class_1, class_2, class_3)"
      ],
      "execution_count": 72,
      "outputs": [
        {
          "output_type": "stream",
          "text": [
            "torch.Size([7, 40, 6])\n",
            "tensor([[0.6963, 0.3604, 0.5624],\n",
            "        [0.4862, 0.1585, 0.6593],\n",
            "        [0.4027, 0.7849, 0.8361],\n",
            "        [0.3645, 0.9388, 0.3748]])\n",
            "tensor([[[0.6963, 0.3604, 0.5624],\n",
            "         [0.4862, 0.1585, 0.6593]],\n",
            "\n",
            "        [[0.4027, 0.7849, 0.8361],\n",
            "         [0.3645, 0.9388, 0.3748]]])\n",
            "tensor([[[0.6963, 0.3604, 0.5624],\n",
            "         [0.4862, 0.1585, 0.6593]]]) tensor([[[0.4027, 0.7849, 0.8361],\n",
            "         [0.3645, 0.9388, 0.3748]]])\n",
            "--------------------\n",
            "tensor([[0.8000, 0.0349, 0.9740],\n",
            "        [0.0091, 0.4742, 0.6428],\n",
            "        [0.7459, 0.2898, 0.0669],\n",
            "        [0.9633, 0.1412, 0.6890],\n",
            "        [0.0563, 0.3241, 0.1185],\n",
            "        [0.3051, 0.0840, 0.2817]])\n",
            "tensor([[0.8000, 0.0349, 0.9740]]) tensor([[0.0091, 0.4742, 0.6428],\n",
            "        [0.7459, 0.2898, 0.0669],\n",
            "        [0.9633, 0.1412, 0.6890],\n",
            "        [0.0563, 0.3241, 0.1185],\n",
            "        [0.3051, 0.0840, 0.2817]])\n",
            "----------------------\n",
            "tensor([[0.8000, 0.0349, 0.9740],\n",
            "        [0.0091, 0.4742, 0.6428]]) tensor([[0.7459, 0.2898, 0.0669],\n",
            "        [0.9633, 0.1412, 0.6890]]) tensor([[0.0563, 0.3241, 0.1185],\n",
            "        [0.3051, 0.0840, 0.2817]])\n"
          ],
          "name": "stdout"
        }
      ]
    }
  ]
}