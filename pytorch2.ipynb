{
  "nbformat": 4,
  "nbformat_minor": 0,
  "metadata": {
    "colab": {
      "name": "pytorch2.ipynb",
      "provenance": [],
      "collapsed_sections": [],
      "authorship_tag": "ABX9TyMMgtLoBARg8etuma65IOkk",
      "include_colab_link": true
    },
    "kernelspec": {
      "name": "python3",
      "display_name": "Python 3"
    }
  },
  "cells": [
    {
      "cell_type": "markdown",
      "metadata": {
        "id": "view-in-github",
        "colab_type": "text"
      },
      "source": [
        "<a href=\"https://colab.research.google.com/github/together0/pytorch/blob/main/pytorch2.ipynb\" target=\"_parent\"><img src=\"https://colab.research.google.com/assets/colab-badge.svg\" alt=\"Open In Colab\"/></a>"
      ]
    },
    {
      "cell_type": "code",
      "metadata": {
        "id": "ZaccSjmhkqov"
      },
      "source": [
        "import torch\r\n",
        "import torch.nn as nn\r\n",
        "import torch.nn.functional as F\r\n",
        "import torch.optim as optim\r\n",
        "from torchvision import datasets, transforms"
      ],
      "execution_count": null,
      "outputs": []
    },
    {
      "cell_type": "code",
      "metadata": {
        "id": "GesveAzJgxBn"
      },
      "source": [
        "\r\n",
        "w1, b1 = torch.randn(200, 784, requires_grad=True),torch.zeros(200, requires_grad=True)   # linear层的输出节点个数和输入节点个数\r\n",
        "w2, b2 = torch.randn(200, 200, requires_grad=True),torch.zeros(200, requires_grad=True)\r\n",
        "w3, b3 = torch.randn(10, 200, requires_grad=True),torch.zeros(10, requires_grad=True)\r\n",
        "torch.nn.init.kaiming_normal_(w1)\r\n",
        "torch.nn.init.kaiming_normal_(w2)\r\n",
        "torch.nn.init.kaiming_normal_(w3)\r\n",
        "def forward(x):\r\n",
        "  x = x@w1.t() + b1\r\n",
        "  x = F.relu(x)\r\n",
        "  x = x@w2.t() + b2\r\n",
        "  x = F.relu(x)\r\n",
        "  x = x@w3.t() + b3\r\n",
        "  return x\r\n",
        "\r\n",
        "optimizer = optim.SGD([w1, b1, w2, b2, w3, b3], lr=learning_rate)\r\n",
        "criteon = nn.CrossEntropyLoss()\r\n",
        "logits = forward(data)\r\n",
        "loss = criteon(logits, target)\r\n",
        "optimizer.zero_grad()\r\n",
        "loss.backward()"
      ],
      "execution_count": null,
      "outputs": []
    }
  ]
}